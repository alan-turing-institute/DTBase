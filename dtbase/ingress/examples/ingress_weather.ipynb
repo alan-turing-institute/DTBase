{
 "cells": [
  {
   "cell_type": "markdown",
   "id": "66a3ef43",
   "metadata": {},
   "source": [
    "## Example: ingress data from OpenWeatherMap\n",
    "\n",
    "This notebook will walk through an example of getting data from the OpenWeatherMap API, and inserting it into the DTBase database.\n",
    "\n",
    "Prerequisites:\n",
    "* DTBase backend running on `http://localhost:5000`\n",
    "* Environment setup by sourcing `.secrets/dtenv.sh` , including the variable CONST_OPENWEATHERMAP_APIKEY which should point to an API key from https://openweathermap.org/"
   ]
  },
  {
   "cell_type": "code",
   "execution_count": null,
   "id": "428c1e2d",
   "metadata": {},
   "outputs": [],
   "source": [
    "import logging\n",
    "logging.getLogger('matplotlib').setLevel(logging.WARNING)\n",
    "import matplotlib.pyplot as plt\n",
    "import warnings\n",
    "warnings.filterwarnings(\"ignore\")\n",
    "\n",
    "%matplotlib inline"
   ]
  },
  {
   "cell_type": "code",
   "execution_count": null,
   "id": "3fc452dc",
   "metadata": {},
   "outputs": [],
   "source": [
    "from datetime import datetime, timedelta\n",
    "from dtbase.ingress.ingress_weather import import_openweathermap_data\n",
    "dt_to = datetime.now()\n",
    "import_openweathermap_data(dt_to, \"OpenWeatherMapHistory\", create_sensors=True)\n",
    "dt_to = datetime.now() + timedelta(days=2)\n",
    "import_openweathermap_data(dt_to, \"OpenWeatherMapForecast\", create_sensors=False)"
   ]
  },
  {
   "cell_type": "markdown",
   "id": "6f9f8440",
   "metadata": {},
   "source": [
    "### Check that we now have the data in the database"
   ]
  },
  {
   "cell_type": "code",
   "execution_count": null,
   "id": "5d6268a0",
   "metadata": {},
   "outputs": [],
   "source": [
    "import requests\n",
    "import pandas as pd"
   ]
  },
  {
   "cell_type": "code",
   "execution_count": null,
   "id": "f4ffb73a",
   "metadata": {},
   "outputs": [],
   "source": [
    "r=requests.get(\"http://localhost:5000/sensor/list-sensors\", json={\"type_name\": \"weather\"})\n",
    "r.json()"
   ]
  },
  {
   "cell_type": "markdown",
   "id": "68db2c2f",
   "metadata": {},
   "source": [
    "Let's get temperature values for both the history \"sensor\" and the forecast \"sensor\""
   ]
  },
  {
   "cell_type": "code",
   "execution_count": null,
   "id": "4a717a93",
   "metadata": {},
   "outputs": [],
   "source": [
    "from datetime import datetime, timedelta\n",
    "now = datetime.now().isoformat()\n",
    "yesterday = (datetime.now() - timedelta(days=1)).isoformat()\n",
    "tomorrow = (datetime.now() + timedelta(days=1)).isoformat()\n"
   ]
  },
  {
   "cell_type": "code",
   "execution_count": null,
   "id": "1f70a9c7",
   "metadata": {},
   "outputs": [],
   "source": [
    "r = requests.get(\"http://localhost:5000/sensor/sensor-readings\", json={\"measure_name\": \"temperature\", \"unique_identifier\": \"OpenWeatherMapHistory\", \"dt_from\": yesterday, \"dt_to\": now})\n",
    "history_temps = r.json()\n",
    "r = requests.get(\"http://localhost:5000/sensor/sensor-readings\", json={\"measure_name\": \"temperature\", \"unique_identifier\": \"OpenWeatherMapForecast\", \"dt_from\": now, \"dt_to\": tomorrow})\n",
    "forecast_temps = r.json()"
   ]
  },
  {
   "cell_type": "code",
   "execution_count": null,
   "id": "a56dc8b3",
   "metadata": {},
   "outputs": [],
   "source": [
    "history_df = pd.DataFrame(history_temps)\n",
    "forecast_df = pd.DataFrame(forecast_temps)"
   ]
  },
  {
   "cell_type": "code",
   "execution_count": null,
   "id": "3e701ded",
   "metadata": {},
   "outputs": [],
   "source": [
    "history_df"
   ]
  },
  {
   "cell_type": "code",
   "execution_count": null,
   "id": "8c19a715",
   "metadata": {},
   "outputs": [],
   "source": []
  }
 ],
 "metadata": {
  "kernelspec": {
   "display_name": "Python 3 (ipykernel)",
   "language": "python",
   "name": "python3"
  },
  "language_info": {
   "codemirror_mode": {
    "name": "ipython",
    "version": 3
   },
   "file_extension": ".py",
   "mimetype": "text/x-python",
   "name": "python",
   "nbconvert_exporter": "python",
   "pygments_lexer": "ipython3",
   "version": "3.9.16"
  }
 },
 "nbformat": 4,
 "nbformat_minor": 5
}

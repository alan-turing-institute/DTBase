{
 "cells": [
  {
   "cell_type": "markdown",
   "metadata": {},
   "source": [
    "# Local Deployment\n",
    "\n",
    "This example steps through how to deploy a local version of DTBase for development purposes. These instructions are a simplication of the developer docs and more details can be found there. \n",
    "\n",
    "There are two options for deploying DTBase locally:\n",
    "\n",
    "1. Docker Compose \n",
    "2. Command Line \n",
    "\n",
    "Although docker compose is easier, it is faster to develop via deployment from the command line. This is because the docker images have to be rebuilt everytime a change is made to the code. The rest of this example will walk through the local deployment of DTBase via the command line. "
   ]
  },
  {
   "cell_type": "markdown",
   "metadata": {},
   "source": [
    "## Running DTBase Locally"
   ]
  },
  {
   "cell_type": "markdown",
   "metadata": {},
   "source": [
    "### Fork Repository and Install DTBase"
   ]
  },
  {
   "cell_type": "markdown",
   "metadata": {},
   "source": [
    "- Fork the DTBase repository: https://github.com/alan-turing-institute/DTBase and clone a copy to your local machine.  \n",
    "- Navigate into the repository on the command line and install the dtbase package and dependencies\n",
    "\n",
    "`pip install -e .[dev]`"
   ]
  },
  {
   "cell_type": "markdown",
   "metadata": {},
   "source": [
    "### Set Environment Variables\n",
    "\n",
    "Located in the .secrets folder, rename `dtenv_template.sh` to `dtenv_localdb.sh` (or any other name) and populate the variables. There is more information of what these values mean in the developer docs. The below is the minimal example needed to run dtbase locally. "
   ]
  },
  {
   "cell_type": "code",
   "execution_count": null,
   "metadata": {
    "vscode": {
     "languageId": "bat"
    }
   },
   "outputs": [],
   "source": [
    "export DT_SQL_TESTUSER=\"postgres\"\n",
    "export DT_SQL_TESTPASS=\"password\"\n",
    "export DT_SQL_TESTHOST=\"localhost\"\n",
    "export DT_SQL_TESTPORT=\"5432\"\n",
    "export DT_SQL_TESTDBNAME=\"test_db\"\n",
    "\n",
    "export DT_SQL_USER=\"postgres\"\n",
    "export DT_SQL_PASS=\"database_password\"\n",
    "export DT_SQL_HOST=\"localhost\"\n",
    "export DT_SQL_PORT=\"5432\"\n",
    "export DT_SQL_DBNAME=\"dt_dev\"\n",
    "\n",
    "export DT_BACKEND_URL=\"http://localhost:5000\"\n",
    "export DT_DEFAULT_USER_PASS=\"user_password\"\n",
    "export DT_FRONT_SECRET_KEY=\"frontend_password\"\n",
    "export DT_JWT_SECRET_KEY=\"jwt_password\""
   ]
  },
  {
   "cell_type": "markdown",
   "metadata": {},
   "source": [
    "### Run a local database\n",
    "\n",
    "Follow the instructions in the developer docs under the heading \"Running a Local Database\""
   ]
  },
  {
   "cell_type": "markdown",
   "metadata": {},
   "source": [
    "### Run Tests \n",
    "\n",
    "This is a good time to run the tests: \n",
    "\n",
    "`python -m pytest`"
   ]
  },
  {
   "cell_type": "markdown",
   "metadata": {},
   "source": [
    "### Run the backend locally \n",
    "\n",
    "Follow instructions in developer docs under the heading \"Running the backend API Locally\""
   ]
  },
  {
   "cell_type": "markdown",
   "metadata": {},
   "source": [
    "### Run the frontend locally\n",
    "\n",
    "Follow instructions in developer docs under the heading \"Running the frontend locally\""
   ]
  },
  {
   "cell_type": "markdown",
   "metadata": {},
   "source": [
    "## Testing the local deployment\n",
    "\n",
    "There should now be three applications running: \n",
    "\n",
    "1. Docker Container running a Postgresql Database\n",
    "2. Backend FastAPI app - `localhost:5000`\n",
    "3. Frontend Flask app - `localhost:8000`\n",
    "\n",
    "To test this out, we can navigate to the corresponding addresses. "
   ]
  },
  {
   "cell_type": "markdown",
   "metadata": {},
   "source": [
    "### Add a User\n",
    "\n",
    "A good first test to check if the backend is successfully talking to the database is to add a user. This could can done either by the frontend or by sending a request to the backend programmatically. "
   ]
  },
  {
   "cell_type": "markdown",
   "metadata": {},
   "source": [
    "#### Frontend\n",
    "\n",
    "![](images/dtbase_frontend.png)\n"
   ]
  },
  {
   "cell_type": "markdown",
   "metadata": {},
   "source": [
    "#### Programatically"
   ]
  },
  {
   "cell_type": "code",
   "execution_count": 1,
   "metadata": {},
   "outputs": [],
   "source": [
    "from dtbase.core.utils import auth_backend_call, login\n",
    "import os"
   ]
  },
  {
   "cell_type": "markdown",
   "metadata": {},
   "source": [
    "Load environment variables from environment file. Equivalent of sourcing the file in bash"
   ]
  },
  {
   "cell_type": "code",
   "execution_count": 2,
   "metadata": {},
   "outputs": [],
   "source": [
    "env_vars = !cat ../.secrets/dtenv_localdb.sh\n",
    "env_vars = [x for x in env_vars if x.startswith('export')]\n",
    "\n",
    "for env_var in env_vars:\n",
    "    key, value = env_var.split(' ')[1].split('=')\n",
    "    # remove string quotes from value\n",
    "    value = value.strip('\\\"')\n",
    "    os.environ[key] = value"
   ]
  },
  {
   "cell_type": "markdown",
   "metadata": {},
   "source": [
    "Login to the backend"
   ]
  },
  {
   "cell_type": "code",
   "execution_count": 3,
   "metadata": {},
   "outputs": [
    {
     "name": "stderr",
     "output_type": "stream",
     "text": [
      "DEBUG:urllib3.connectionpool:Starting new HTTP connection (1): localhost:5000\n",
      "DEBUG:urllib3.connectionpool:http://localhost:5000 \"POST /auth/login HTTP/1.1\" 200 391\n"
     ]
    }
   ],
   "source": [
    "username = 'default_user@localhost'\n",
    "password = os.getenv(\"DT_DEFAULT_USER_PASS\")\n",
    "access_token = login(email=username, password=password)[0]"
   ]
  },
  {
   "cell_type": "markdown",
   "metadata": {},
   "source": [
    "Use the access token from logging in to authenticate backend call. Remember, details of each endpoint can be found at http://localhost:5000/docs\n",
    " \n",
    "The following command lists the existing users"
   ]
  },
  {
   "cell_type": "code",
   "execution_count": 4,
   "metadata": {},
   "outputs": [
    {
     "name": "stderr",
     "output_type": "stream",
     "text": [
      "DEBUG:urllib3.connectionpool:Starting new HTTP connection (1): localhost:5000\n",
      "DEBUG:urllib3.connectionpool:http://localhost:5000 \"GET /user/list-users HTTP/1.1\" 200 26\n"
     ]
    },
    {
     "data": {
      "text/plain": [
       "['default_user@localhost']"
      ]
     },
     "execution_count": 4,
     "metadata": {},
     "output_type": "execute_result"
    }
   ],
   "source": [
    "auth_backend_call('get', '/user/list-users', token=access_token).json()"
   ]
  },
  {
   "cell_type": "markdown",
   "metadata": {},
   "source": [
    "Now lets add a user"
   ]
  },
  {
   "cell_type": "code",
   "execution_count": 5,
   "metadata": {},
   "outputs": [
    {
     "name": "stderr",
     "output_type": "stream",
     "text": [
      "DEBUG:urllib3.connectionpool:Starting new HTTP connection (1): localhost:5000\n",
      "DEBUG:urllib3.connectionpool:http://localhost:5000 \"POST /user/create-user HTTP/1.1\" 201 25\n"
     ]
    },
    {
     "data": {
      "text/plain": [
       "{'detail': 'User created'}"
      ]
     },
     "execution_count": 5,
     "metadata": {},
     "output_type": "execute_result"
    }
   ],
   "source": [
    "payload = payload={\n",
    "  \"email\": \"user2@email.com\",\n",
    "  \"password\": \"test_password\"\n",
    "}\n",
    "\n",
    "auth_backend_call('post', '/user/create-user', payload=payload, token=access_token).json()"
   ]
  },
  {
   "cell_type": "markdown",
   "metadata": {},
   "source": [
    "Now when we list the users, we see two users. "
   ]
  },
  {
   "cell_type": "code",
   "execution_count": 6,
   "metadata": {},
   "outputs": [
    {
     "name": "stderr",
     "output_type": "stream",
     "text": [
      "DEBUG:urllib3.connectionpool:Starting new HTTP connection (1): localhost:5000\n",
      "DEBUG:urllib3.connectionpool:http://localhost:5000 \"GET /user/list-users HTTP/1.1\" 200 44\n"
     ]
    },
    {
     "data": {
      "text/plain": [
       "['default_user@localhost', 'user2@email.com']"
      ]
     },
     "execution_count": 6,
     "metadata": {},
     "output_type": "execute_result"
    }
   ],
   "source": [
    "auth_backend_call('get', '/user/list-users', token=access_token).json()"
   ]
  }
 ],
 "metadata": {
  "kernelspec": {
   "display_name": "dtbase_env",
   "language": "python",
   "name": "python3"
  },
  "language_info": {
   "codemirror_mode": {
    "name": "ipython",
    "version": 3
   },
   "file_extension": ".py",
   "mimetype": "text/x-python",
   "name": "python",
   "nbconvert_exporter": "python",
   "pygments_lexer": "ipython3",
   "version": "3.10.13"
  }
 },
 "nbformat": 4,
 "nbformat_minor": 2
}
